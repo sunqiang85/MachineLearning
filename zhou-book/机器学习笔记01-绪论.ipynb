{
 "cells": [
  {
   "cell_type": "markdown",
   "metadata": {},
   "source": [
    "# 基本术语\n",
    "- 数据集 data set\n",
    "- 属性 attribute或特征 feature\n",
    "- 属性空间 attribute space\n",
    "- 样本空间 sample space\n",
    "- 维数 dimensionality\n",
    "- 学习 learning\n",
    "- 训练 training\n",
    "- 训练集 training\n",
    "- 假设 hypothesis\n",
    "- 分类 classification\n",
    "- 回归 regression\n",
    "- 聚类 clustering\n",
    "- 监督学习 supervised learning\n",
    "- 无监督学习 unsupervised learning\n",
    "- 分布 distribution\n",
    "- 泛化 generalization\n",
    "- 独立同分布 independent identically distributed（i.i.d）\n",
    "\n",
    "# 假设空间\n",
    "从样本中学习属于“归纳学习inductive learning”，是从特殊到一般的泛化generalization过程。\n",
    "\n",
    "版本空间：与训练集一致的假设集合\n",
    "\n",
    "\n",
    "# 归纳偏好\n",
    "归纳偏好可看作学习算法自身在一个可能很庞大的假设空间中对假设进行选择的启发式或“价值观”。\n",
    "\n",
    "奥卡姆剃刀（Occam's razor）:若有多个假设与观察一致，选择最简单的那个\n",
    "\n",
    "伊壁鸠鲁提出的多释原则（principle of multiple）:主张保留与经验观察所有一致的所有假设\n",
    "# 发展历史\n",
    "- 推理期 A. Newell和H. Simon的逻辑理论家和通用问题求解（General Problem Solving）\n",
    "- 知识期 Feigenbaum的专家系统\n",
    "- 连接主义：F.Rosenblatt的感知机，B. Widrow的Adaline\n",
    "- 符号主义：P.Winston结构学习系统，R.S.Michalski的“基于逻辑的归纳系统”、E.B.Hunt等人的“概念学习系统”\n",
    "- 决策理论：强化学习，N.J.Nilson的学习机器\n",
    "- 学习分类：机械学习、示教学习、类比学习、归纳学习。\n",
    "- BP算法：D.E.Rumelhart 1986\n",
    "- 统计学习：SVM，Kernel\n",
    "\n",
    "# 应用现状\n",
    "- 生物信息学\n",
    "- 无人驾驶"
   ]
  },
  {
   "cell_type": "code",
   "execution_count": null,
   "metadata": {
    "collapsed": true
   },
   "outputs": [],
   "source": []
  }
 ],
 "metadata": {
  "kernelspec": {
   "display_name": "Python 3",
   "language": "python",
   "name": "python3"
  },
  "language_info": {
   "codemirror_mode": {
    "name": "ipython",
    "version": 3
   },
   "file_extension": ".py",
   "mimetype": "text/x-python",
   "name": "python",
   "nbconvert_exporter": "python",
   "pygments_lexer": "ipython3",
   "version": "3.6.1"
  }
 },
 "nbformat": 4,
 "nbformat_minor": 2
}
